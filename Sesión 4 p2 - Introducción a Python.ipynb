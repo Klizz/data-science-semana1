{
 "cells": [
  {
   "cell_type": "markdown",
   "metadata": {},
   "source": [
    "## Sesión 4 - Introducción a Python"
   ]
  },
  {
   "cell_type": "markdown",
   "metadata": {},
   "source": [
    "#### Continuación - Ejercicios en Clase\n",
    "\n",
    "El día de hoy repasaremos los temas que hemos visto durante la semana. Y empezaremos con el tema de los ciclos if, elif, for y while.\n",
    "\n",
    "Primero que nada repasaremos el tema de datos y colecciones en Python."
   ]
  },
  {
   "cell_type": "markdown",
   "metadata": {},
   "source": [
    "Realizar los siguientes ejercicios o responde las preguntas correspondientes:\n",
    "\n",
    "1. Comando para crear un ambiente virtual"
   ]
  },
  {
   "cell_type": "code",
   "execution_count": null,
   "metadata": {},
   "outputs": [
    {
     "name": "stdout",
     "output_type": "stream",
     "text": [
      "Collecting package metadata (current_repodata.json): done\n",
      "Solving environment: done\n",
      "\n",
      "\n",
      "==> WARNING: A newer version of conda exists. <==\n",
      "  current version: 4.8.2\n",
      "  latest version: 4.8.3\n",
      "\n",
      "Please update conda by running\n",
      "\n",
      "    $ conda update -n base -c defaults conda\n",
      "\n",
      "\n",
      "\n",
      "## Package Plan ##\n",
      "\n",
      "  environment location: /home/karen/anaconda3/envs/curso\n",
      "\n",
      "  added / updated specs:\n",
      "    - anaconda\n",
      "\n",
      "\n",
      "The following packages will be downloaded:\n",
      "\n",
      "    package                    |            build\n",
      "    ---------------------------|-----------------\n",
      "    _anaconda_depends-2020.02  |           py38_0           6 KB\n",
      "    alabaster-0.7.12           |             py_0          16 KB\n",
      "    anaconda-custom            |           py38_1          35 KB\n",
      "    anaconda-client-1.7.2      |           py38_0         156 KB\n",
      "    argh-0.26.2                |           py38_0          36 KB\n",
      "    asn1crypto-1.3.0           |           py38_0         164 KB\n",
      "    astroid-2.3.3              |           py38_0         274 KB\n",
      "    astropy-4.0.1.post1        |   py38h7b6447c_0         7.5 MB\n",
      "    atomicwrites-1.3.0         |             py_0           9 KB\n",
      "    backcall-0.1.0             |           py38_0          21 KB\n",
      "    backports.shutil_get_terminal_size-1.0.0|           py38_2           9 KB\n",
      "    beautifulsoup4-4.9.0       |           py38_0         167 KB\n",
      "    bitarray-1.2.1             |   py38h7b6447c_0          83 KB\n",
      "    bkcharts-0.2               |           py38_0         134 KB\n",
      "    bleach-3.1.4               |             py_0         114 KB\n",
      "    bokeh-2.0.2                |           py38_0         5.3 MB\n",
      "    boto-2.49.0                |           py38_0         1.2 MB\n",
      "    bottleneck-1.3.2           |   py38heb32a55_0         124 KB\n",
      "    certifi-2020.4.5.1         |           py38_0         156 KB\n",
      "    cffi-1.14.0                |   py38h2e261b9_0         226 KB\n",
      "    chardet-3.0.4              |        py38_1003         174 KB\n",
      "    click-7.1.1                |             py_0          71 KB\n",
      "    cloudpickle-1.4.0          |             py_0          29 KB\n",
      "    clyent-1.2.2               |           py38_1          20 KB\n",
      "    cryptography-2.8           |   py38h1ba5d50_0         555 KB\n",
      "    curl-7.69.1                |       hbc83047_0         137 KB\n",
      "    cycler-0.10.0              |           py38_0          14 KB\n",
      "    cython-0.29.17             |   py38he6710b0_0         2.1 MB\n",
      "    cytoolz-0.10.1             |   py38h7b6447c_0         392 KB\n",
      "    dask-2.15.0                |             py_0          14 KB\n",
      "    dask-core-2.15.0           |             py_0         575 KB\n",
      "    decorator-4.4.2            |             py_0          14 KB\n",
      "    distributed-2.15.0         |           py38_0         980 KB\n",
      "    docutils-0.16              |           py38_0         665 KB\n",
      "    entrypoints-0.3            |           py38_0          10 KB\n",
      "    et_xmlfile-1.0.1           |           py38_0          22 KB\n",
      "    fastcache-1.1.0            |   py38h7b6447c_0          36 KB\n",
      "    flake8-3.7.9               |           py38_0         168 KB\n",
      "    flask-1.1.2                |             py_0          74 KB\n",
      "    fsspec-0.7.1               |             py_0          56 KB\n",
      "    future-0.18.2              |           py38_0         642 KB\n",
      "    gevent-1.3.7               |   py38h7b6447c_1         1.4 MB\n",
      "    gmpy2-2.0.8                |   py38hd5f6e3b_3         162 KB\n",
      "    greenlet-0.4.15            |   py38h7b6447c_0          29 KB\n",
      "    h5py-2.10.0                |   py38h7918eee_0         1.1 MB\n",
      "    html5lib-1.0.1             |             py_0          89 KB\n",
      "    hypothesis-5.8.3           |             py_0         228 KB\n",
      "    icu-58.2                   |       he6710b0_3        10.5 MB\n",
      "    idna-2.9                   |             py_1          49 KB\n",
      "    imageio-2.8.0              |             py_0         3.0 MB\n",
      "    importlib_metadata-1.5.0   |           py38_0          48 KB\n",
      "    ipykernel-5.1.4            |   py38h39e3cac_0         172 KB\n",
      "    ipython-7.13.0             |   py38h5ca1d4c_0         979 KB\n",
      "    ipython_genutils-0.2.0     |           py38_0          40 KB\n",
      "    isort-4.3.21               |           py38_0          65 KB\n",
      "    itsdangerous-1.1.0         |             py_0          17 KB\n",
      "    jedi-0.15.2                |           py38_0         744 KB\n",
      "    jeepney-0.4.3              |             py_0          21 KB\n",
      "    jinja2-2.11.2              |             py_0         103 KB\n",
      "    json5-0.9.4                |             py_0          21 KB\n",
      "    jsonschema-3.2.0           |           py38_0          96 KB\n",
      "    jupyter-1.0.0              |           py38_7           7 KB\n",
      "    jupyter_client-6.1.2       |             py_0          82 KB\n",
      "    jupyter_core-4.6.3         |           py38_0          75 KB\n",
      "    jupyterlab_server-1.1.0    |             py_0          27 KB\n",
      "    keyring-21.1.1             |           py38_2          57 KB\n",
      "    kiwisolver-1.0.1           |   py38he6710b0_0          86 KB\n",
      "    lazy-object-proxy-1.4.3    |   py38h7b6447c_0          36 KB\n",
      "    libcurl-7.69.1             |       h20c2e04_0         431 KB\n",
      "    libssh2-1.9.0              |       h1ba5d50_1         269 KB\n",
      "    llvmlite-0.32.0            |   py38hd408876_0        14.8 MB\n",
      "    locket-0.2.0               |           py38_1           9 KB\n",
      "    lxml-4.5.0                 |   py38hefd8a0e_0         1.5 MB\n",
      "    lzo-2.10                   |       h7b6447c_2         317 KB\n",
      "    markupsafe-1.1.1           |   py38h7b6447c_0          33 KB\n",
      "    matplotlib-3.1.3           |           py38_0          21 KB\n",
      "    matplotlib-base-3.1.3      |   py38hef1b27d_0         5.0 MB\n",
      "    mccabe-0.6.1               |           py38_1          15 KB\n",
      "    mistune-0.8.4              |py38h7b6447c_1000          55 KB\n",
      "    mkl-service-2.3.0          |   py38he904b0f_0          62 KB\n",
      "    mkl_fft-1.0.15             |   py38ha843d7b_0         159 KB\n",
      "    mkl_random-1.1.0           |   py38h962f231_0         340 KB\n",
      "    mock-4.0.2                 |             py_0          32 KB\n",
      "    mpmath-1.1.0               |           py38_0         776 KB\n",
      "    msgpack-python-1.0.0       |   py38hfd86e86_1          91 KB\n",
      "    multipledispatch-0.6.0     |           py38_0          23 KB\n",
      "    nbconvert-5.6.1            |           py38_0         456 KB\n",
      "    ncurses-6.2                |       he6710b0_1         817 KB\n",
      "    nltk-3.4.5                 |           py38_0         1.7 MB\n",
      "    nose-1.3.7                 |           py38_2         217 KB\n",
      "    notebook-6.0.3             |           py38_0         4.0 MB\n",
      "    numba-0.49.0               |   py38h0573a6f_0         3.1 MB\n",
      "    numexpr-2.7.1              |   py38h423224d_0         187 KB\n",
      "    numpy-1.18.1               |   py38h4f9e942_0           5 KB\n",
      "    numpy-base-1.18.1          |   py38hde5b4d6_1         4.2 MB\n",
      "    olefile-0.46               |             py_0          33 KB\n",
      "    openssl-1.1.1g             |       h7b6447c_0         2.5 MB\n",
      "    packaging-20.3             |             py_0          36 KB\n",
      "    pandas-1.0.3               |   py38h0573a6f_0         8.8 MB\n",
      "    pandocfilters-1.4.2        |           py38_1          13 KB\n",
      "    path-13.1.0                |           py38_0          35 KB\n",
      "    pathlib2-2.3.5             |           py38_0          36 KB\n",
      "    patsy-0.5.1                |           py38_0         274 KB\n",
      "    pep8-1.7.1                 |           py38_0          53 KB\n",
      "    pexpect-4.8.0              |           py38_0          81 KB\n",
      "    pickleshare-0.7.5          |        py38_1000          13 KB\n",
      "    pillow-7.0.0               |   py38hb39fc2d_0         601 KB\n",
      "    pip-20.0.2                 |           py38_1         1.7 MB\n",
      "    pkginfo-1.5.0.1            |           py38_0          43 KB\n",
      "    pluggy-0.13.1              |           py38_0          33 KB\n",
      "    ply-3.11                   |           py38_0          81 KB\n",
      "    prompt-toolkit-3.0.4       |             py_0         244 KB\n",
      "    prompt_toolkit-3.0.4       |                0          11 KB\n",
      "    psutil-5.7.0               |   py38h7b6447c_0         321 KB\n",
      "    ptyprocess-0.6.0           |           py38_0          23 KB\n",
      "    pycodestyle-2.5.0          |           py38_0          62 KB\n",
      "    pycosat-0.6.3              |   py38h7b6447c_1          82 KB\n",
      "    pycparser-2.20             |             py_0          92 KB\n",
      "    pycurl-7.43.0.5            |   py38h1ba5d50_0          70 KB\n",
      "    pyflakes-2.1.1             |           py38_0         106 KB\n",
      "    pygments-2.6.1             |             py_0         654 KB\n",
      "    pylint-2.5.0               |           py38_0         444 KB\n",
      "    pyodbc-4.0.30              |   py38he6710b0_0          72 KB\n",
      "    pyopenssl-19.1.0           |           py38_0          88 KB\n",
      "    pyqt-5.9.2                 |   py38h05f1152_4         4.5 MB\n",
      "    pyrsistent-0.16.0          |   py38h7b6447c_0          94 KB\n",
      "    pysocks-1.7.1              |           py38_0          28 KB\n",
      "    pytables-3.6.1             |   py38h9fd0a39_0         1.3 MB\n",
      "    pytest-5.4.1               |           py38_0         384 KB\n",
      "    pytest-arraydiff-0.2       |   py38h39e3cac_0          15 KB\n",
      "    pytest-openfiles-0.5.0     |             py_0          11 KB\n",
      "    pytest-remotedata-0.3.2    |           py38_0          14 KB\n",
      "    python-3.8.2               |       hcf32534_0        49.6 MB\n",
      "    python-language-server-0.31.10|           py38_0          78 KB\n",
      "    python-libarchive-c-2.9    |             py_0          50 KB\n",
      "    pywavelets-1.1.1           |   py38h7b6447c_0         3.5 MB\n",
      "    pyyaml-5.3.1               |   py38h7b6447c_0         185 KB\n",
      "    pyzmq-18.1.1               |   py38he6710b0_0         465 KB\n",
      "    qdarkstyle-2.8.1           |             py_0         176 KB\n",
      "    qtawesome-0.7.0            |             py_0         726 KB\n",
      "    qtconsole-4.7.3            |             py_0          94 KB\n",
      "    readline-8.0               |       h7b6447c_0         356 KB\n",
      "    requests-2.23.0            |           py38_0          93 KB\n",
      "    rtree-0.9.3                |           py38_0          45 KB\n",
      "    ruamel_yaml-0.15.87        |   py38h7b6447c_0         259 KB\n",
      "    scikit-image-0.16.2        |   py38h0573a6f_0        23.2 MB\n",
      "    scikit-learn-0.22.1        |   py38hd81dba3_0         5.4 MB\n",
      "    scipy-1.4.1                |   py38h0b6359f_0        14.8 MB\n",
      "    secretstorage-3.1.2        |           py38_0          25 KB\n",
      "    send2trash-1.5.0           |           py38_0          17 KB\n",
      "    setuptools-46.1.3          |           py38_0         523 KB\n",
      "    simplegeneric-0.8.1        |           py38_2          10 KB\n",
      "    singledispatch-3.4.0.3     |           py38_0          16 KB\n",
      "    sip-4.19.13                |   py38he6710b0_0         277 KB\n",
      "    six-1.14.0                 |           py38_0          27 KB\n",
      "    sortedcollections-1.1.1    |             py_0          10 KB\n",
      "    sortedcontainers-2.1.0     |           py38_0          42 KB\n",
      "    soupsieve-2.0              |             py_0          33 KB\n",
      "    sphinx-3.0.3               |             py_0         1.1 MB\n",
      "    sphinxcontrib-1.0          |           py38_1           4 KB\n",
      "    sphinxcontrib-applehelp-1.0.2|             py_0          27 KB\n",
      "    sphinxcontrib-devhelp-1.0.2|             py_0          22 KB\n",
      "    sphinxcontrib-htmlhelp-1.0.3|             py_0          27 KB\n",
      "    sphinxcontrib-qthelp-1.0.3 |             py_0          25 KB\n",
      "    sphinxcontrib-serializinghtml-1.1.4|             py_0          24 KB\n",
      "    sphinxcontrib-websupport-1.2.1|             py_0          36 KB\n",
      "    spyder-4.1.2               |           py38_0         5.6 MB\n",
      "    spyder-kernels-1.9.0       |           py38_0          96 KB\n",
      "    sqlalchemy-1.3.16          |   py38h7b6447c_0         1.5 MB\n",
      "    sqlite-3.31.1              |       h62c20be_1         2.0 MB\n",
      "    statsmodels-0.11.0         |   py38h7b6447c_0         7.9 MB\n",
      "    sympy-1.5.1                |           py38_0         8.3 MB\n",
      "    terminado-0.8.3            |           py38_0          26 KB\n",
      "    tornado-6.0.4              |   py38h7b6447c_1         603 KB\n",
      "    tqdm-4.45.0                |             py_0          58 KB\n",
      "    traitlets-4.3.3            |           py38_0         138 KB\n",
      "    typing_extensions-3.7.4.1  |           py38_0          40 KB\n",
      "    ujson-1.35                 |   py38h7b6447c_0          34 KB\n",
      "    unicodecsv-0.14.1          |           py38_0          27 KB\n",
      "    urllib3-1.25.8             |           py38_0         170 KB\n",
      "    watchdog-0.10.2            |           py38_0          93 KB\n",
      "    wcwidth-0.1.9              |             py_0          24 KB\n",
      "    webencodings-0.5.1         |           py38_1          20 KB\n",
      "    werkzeug-1.0.1             |             py_0         240 KB\n",
      "    wheel-0.34.2               |           py38_0          51 KB\n",
      "    widgetsnbextension-3.5.1   |           py38_0         866 KB\n",
      "    wrapt-1.12.1               |   py38h7b6447c_1          50 KB\n",
      "    wurlitzer-2.0.0            |           py38_0          14 KB\n",
      "    xlrd-1.2.0                 |             py_0         108 KB\n",
      "    xlsxwriter-1.2.8           |             py_0         112 KB\n",
      "    xlwt-1.3.0                 |           py38_0         160 KB\n",
      "    xz-5.2.5                   |       h7b6447c_0         438 KB\n",
      "    zict-2.0.0                 |             py_0          13 KB\n",
      "    zipp-3.1.0                 |             py_0          13 KB\n",
      "    ------------------------------------------------------------\n",
      "                                           Total:       232.7 MB\n",
      "\n",
      "The following NEW packages will be INSTALLED:\n",
      "\n",
      "  _anaconda_depends  pkgs/main/linux-64::_anaconda_depends-2020.02-py38_0\n",
      "  _libgcc_mutex      pkgs/main/linux-64::_libgcc_mutex-0.1-main\n",
      "  alabaster          pkgs/main/noarch::alabaster-0.7.12-py_0\n",
      "  anaconda           pkgs/main/linux-64::anaconda-custom-py38_1\n",
      "  anaconda-client    pkgs/main/linux-64::anaconda-client-1.7.2-py38_0\n",
      "  anaconda-project   pkgs/main/noarch::anaconda-project-0.8.4-py_0\n",
      "  argh               pkgs/main/linux-64::argh-0.26.2-py38_0\n",
      "  asn1crypto         pkgs/main/linux-64::asn1crypto-1.3.0-py38_0\n",
      "  astroid            pkgs/main/linux-64::astroid-2.3.3-py38_0\n",
      "  astropy            pkgs/main/linux-64::astropy-4.0.1.post1-py38h7b6447c_0\n",
      "  atomicwrites       pkgs/main/noarch::atomicwrites-1.3.0-py_0\n",
      "  attrs              pkgs/main/noarch::attrs-19.3.0-py_0\n",
      "  autopep8           pkgs/main/noarch::autopep8-1.4.4-py_0\n",
      "  babel              pkgs/main/noarch::babel-2.8.0-py_0\n",
      "  backcall           pkgs/main/linux-64::backcall-0.1.0-py38_0\n",
      "  backports          pkgs/main/noarch::backports-1.0-py_2\n",
      "  backports.shutil_~ pkgs/main/linux-64::backports.shutil_get_terminal_size-1.0.0-py38_2\n",
      "  beautifulsoup4     pkgs/main/linux-64::beautifulsoup4-4.9.0-py38_0\n",
      "  bitarray           pkgs/main/linux-64::bitarray-1.2.1-py38h7b6447c_0\n",
      "  bkcharts           pkgs/main/linux-64::bkcharts-0.2-py38_0\n",
      "  blas               pkgs/main/linux-64::blas-1.0-mkl\n",
      "  bleach             pkgs/main/noarch::bleach-3.1.4-py_0\n",
      "  blosc              pkgs/main/linux-64::blosc-1.16.3-hd408876_0\n",
      "  bokeh              pkgs/main/linux-64::bokeh-2.0.2-py38_0\n",
      "  boto               pkgs/main/linux-64::boto-2.49.0-py38_0\n",
      "  bottleneck         pkgs/main/linux-64::bottleneck-1.3.2-py38heb32a55_0\n",
      "  bzip2              pkgs/main/linux-64::bzip2-1.0.8-h7b6447c_0\n",
      "  ca-certificates    pkgs/main/linux-64::ca-certificates-2020.1.1-0\n",
      "  cairo              pkgs/main/linux-64::cairo-1.14.12-h8948797_3\n",
      "  certifi            pkgs/main/linux-64::certifi-2020.4.5.1-py38_0\n",
      "  cffi               pkgs/main/linux-64::cffi-1.14.0-py38h2e261b9_0\n",
      "  chardet            pkgs/main/linux-64::chardet-3.0.4-py38_1003\n",
      "  click              pkgs/main/noarch::click-7.1.1-py_0\n",
      "  cloudpickle        pkgs/main/noarch::cloudpickle-1.4.0-py_0\n",
      "  clyent             pkgs/main/linux-64::clyent-1.2.2-py38_1\n",
      "  colorama           pkgs/main/noarch::colorama-0.4.3-py_0\n",
      "  contextlib2        pkgs/main/noarch::contextlib2-0.6.0.post1-py_0\n",
      "  cryptography       pkgs/main/linux-64::cryptography-2.8-py38h1ba5d50_0\n",
      "  curl               pkgs/main/linux-64::curl-7.69.1-hbc83047_0\n",
      "  cycler             pkgs/main/linux-64::cycler-0.10.0-py38_0\n",
      "  cython             pkgs/main/linux-64::cython-0.29.17-py38he6710b0_0\n",
      "  cytoolz            pkgs/main/linux-64::cytoolz-0.10.1-py38h7b6447c_0\n",
      "  dask               pkgs/main/noarch::dask-2.15.0-py_0\n",
      "  dask-core          pkgs/main/noarch::dask-core-2.15.0-py_0\n",
      "  dbus               pkgs/main/linux-64::dbus-1.13.12-h746ee38_0\n",
      "  decorator          pkgs/main/noarch::decorator-4.4.2-py_0\n",
      "  defusedxml         pkgs/main/noarch::defusedxml-0.6.0-py_0\n",
      "  diff-match-patch   pkgs/main/noarch::diff-match-patch-20181111-py_0\n",
      "  distributed        pkgs/main/linux-64::distributed-2.15.0-py38_0\n",
      "  docutils           pkgs/main/linux-64::docutils-0.16-py38_0\n",
      "  entrypoints        pkgs/main/linux-64::entrypoints-0.3-py38_0\n",
      "  et_xmlfile         pkgs/main/linux-64::et_xmlfile-1.0.1-py38_0\n",
      "  expat              pkgs/main/linux-64::expat-2.2.6-he6710b0_0\n",
      "  fastcache          pkgs/main/linux-64::fastcache-1.1.0-py38h7b6447c_0\n",
      "  filelock           pkgs/main/noarch::filelock-3.0.12-py_0\n",
      "  flake8             pkgs/main/linux-64::flake8-3.7.9-py38_0\n",
      "  flask              pkgs/main/noarch::flask-1.1.2-py_0\n",
      "  fontconfig         pkgs/main/linux-64::fontconfig-2.13.0-h9420a91_0\n",
      "  freetype           pkgs/main/linux-64::freetype-2.9.1-h8a8886c_1\n",
      "  fribidi            pkgs/main/linux-64::fribidi-1.0.5-h7b6447c_0\n",
      "  fsspec             pkgs/main/noarch::fsspec-0.7.1-py_0\n",
      "  future             pkgs/main/linux-64::future-0.18.2-py38_0\n",
      "  get_terminal_size  pkgs/main/linux-64::get_terminal_size-1.0.0-haa9412d_0\n",
      "  gevent             pkgs/main/linux-64::gevent-1.3.7-py38h7b6447c_1\n",
      "  glib               pkgs/main/linux-64::glib-2.63.1-h5a9c865_0\n",
      "  glob2              pkgs/main/noarch::glob2-0.7-py_0\n",
      "  gmp                pkgs/main/linux-64::gmp-6.1.2-h6c8ec71_1\n",
      "  gmpy2              pkgs/main/linux-64::gmpy2-2.0.8-py38hd5f6e3b_3\n",
      "  graphite2          pkgs/main/linux-64::graphite2-1.3.13-h23475e2_0\n",
      "  greenlet           pkgs/main/linux-64::greenlet-0.4.15-py38h7b6447c_0\n",
      "  gst-plugins-base   pkgs/main/linux-64::gst-plugins-base-1.14.0-hbbd80ab_1\n",
      "  gstreamer          pkgs/main/linux-64::gstreamer-1.14.0-hb453b48_1\n",
      "  h5py               pkgs/main/linux-64::h5py-2.10.0-py38h7918eee_0\n",
      "  harfbuzz           pkgs/main/linux-64::harfbuzz-1.8.8-hffaf4a1_0\n",
      "  hdf5               pkgs/main/linux-64::hdf5-1.10.4-hb1b8bf9_0\n",
      "  heapdict           pkgs/main/noarch::heapdict-1.0.1-py_0\n",
      "  html5lib           pkgs/main/noarch::html5lib-1.0.1-py_0\n",
      "  hypothesis         pkgs/main/noarch::hypothesis-5.8.3-py_0\n",
      "  icu                pkgs/main/linux-64::icu-58.2-he6710b0_3\n",
      "  idna               pkgs/main/noarch::idna-2.9-py_1\n",
      "  imageio            pkgs/main/noarch::imageio-2.8.0-py_0\n",
      "  imagesize          pkgs/main/noarch::imagesize-1.2.0-py_0\n",
      "  importlib_metadata pkgs/main/linux-64::importlib_metadata-1.5.0-py38_0\n",
      "  intel-openmp       pkgs/main/linux-64::intel-openmp-2020.0-166\n",
      "  intervaltree       pkgs/main/noarch::intervaltree-3.0.2-py_0\n",
      "  ipykernel          pkgs/main/linux-64::ipykernel-5.1.4-py38h39e3cac_0\n",
      "  ipython            pkgs/main/linux-64::ipython-7.13.0-py38h5ca1d4c_0\n",
      "  ipython_genutils   pkgs/main/linux-64::ipython_genutils-0.2.0-py38_0\n",
      "  ipywidgets         pkgs/main/noarch::ipywidgets-7.5.1-py_0\n",
      "  isort              pkgs/main/linux-64::isort-4.3.21-py38_0\n",
      "  itsdangerous       pkgs/main/noarch::itsdangerous-1.1.0-py_0\n",
      "  jbig               pkgs/main/linux-64::jbig-2.1-hdba287a_0\n",
      "  jdcal              pkgs/main/noarch::jdcal-1.4.1-py_0\n",
      "  jedi               pkgs/main/linux-64::jedi-0.15.2-py38_0\n",
      "  jeepney            pkgs/main/noarch::jeepney-0.4.3-py_0\n",
      "  jinja2             pkgs/main/noarch::jinja2-2.11.2-py_0\n",
      "  joblib             pkgs/main/noarch::joblib-0.14.1-py_0\n",
      "  jpeg               pkgs/main/linux-64::jpeg-9b-h024ee3a_2\n",
      "  json5              pkgs/main/noarch::json5-0.9.4-py_0\n",
      "  jsonschema         pkgs/main/linux-64::jsonschema-3.2.0-py38_0\n",
      "  jupyter            pkgs/main/linux-64::jupyter-1.0.0-py38_7\n",
      "  jupyter_client     pkgs/main/noarch::jupyter_client-6.1.2-py_0\n",
      "  jupyter_console    pkgs/main/noarch::jupyter_console-6.1.0-py_0\n",
      "  jupyter_core       pkgs/main/linux-64::jupyter_core-4.6.3-py38_0\n",
      "  jupyterlab         pkgs/main/noarch::jupyterlab-1.2.6-pyhf63ae98_0\n",
      "  jupyterlab_server  pkgs/main/noarch::jupyterlab_server-1.1.0-py_0\n",
      "  keyring            pkgs/main/linux-64::keyring-21.1.1-py38_2\n",
      "  kiwisolver         pkgs/main/linux-64::kiwisolver-1.0.1-py38he6710b0_0\n",
      "  krb5               pkgs/main/linux-64::krb5-1.17.1-h173b8e3_0\n",
      "  lazy-object-proxy  pkgs/main/linux-64::lazy-object-proxy-1.4.3-py38h7b6447c_0\n",
      "  ld_impl_linux-64   pkgs/main/linux-64::ld_impl_linux-64-2.33.1-h53a641e_7\n",
      "  libarchive         pkgs/main/linux-64::libarchive-3.3.3-h5d8350f_5\n",
      "  libcurl            pkgs/main/linux-64::libcurl-7.69.1-h20c2e04_0\n",
      "  libedit            pkgs/main/linux-64::libedit-3.1.20181209-hc058e9b_0\n",
      "  libffi             pkgs/main/linux-64::libffi-3.2.1-hd88cf55_4\n",
      "  libgcc-ng          pkgs/main/linux-64::libgcc-ng-9.1.0-hdf63c60_0\n",
      "  libgfortran-ng     pkgs/main/linux-64::libgfortran-ng-7.3.0-hdf63c60_0\n",
      "  libpng             pkgs/main/linux-64::libpng-1.6.37-hbc83047_0\n",
      "  libsodium          pkgs/main/linux-64::libsodium-1.0.16-h1bed415_0\n",
      "  libspatialindex    pkgs/main/linux-64::libspatialindex-1.9.3-he6710b0_0\n",
      "  libssh2            pkgs/main/linux-64::libssh2-1.9.0-h1ba5d50_1\n",
      "  libstdcxx-ng       pkgs/main/linux-64::libstdcxx-ng-9.1.0-hdf63c60_0\n",
      "  libtiff            pkgs/main/linux-64::libtiff-4.1.0-h2733197_0\n",
      "  libtool            pkgs/main/linux-64::libtool-2.4.6-h7b6447c_5\n",
      "  libuuid            pkgs/main/linux-64::libuuid-1.0.3-h1bed415_2\n",
      "  libxcb             pkgs/main/linux-64::libxcb-1.13-h1bed415_1\n",
      "  libxml2            pkgs/main/linux-64::libxml2-2.9.9-hea5a465_1\n",
      "  libxslt            pkgs/main/linux-64::libxslt-1.1.33-h7d1a2b0_0\n",
      "  llvmlite           pkgs/main/linux-64::llvmlite-0.32.0-py38hd408876_0\n",
      "  locket             pkgs/main/linux-64::locket-0.2.0-py38_1\n",
      "  lxml               pkgs/main/linux-64::lxml-4.5.0-py38hefd8a0e_0\n"
     ]
    },
    {
     "name": "stdout",
     "output_type": "stream",
     "text": [
      "  lz4-c              pkgs/main/linux-64::lz4-c-1.8.1.2-h14c3975_0\r\n",
      "  lzo                pkgs/main/linux-64::lzo-2.10-h7b6447c_2\r\n",
      "  markupsafe         pkgs/main/linux-64::markupsafe-1.1.1-py38h7b6447c_0\r\n",
      "  matplotlib         pkgs/main/linux-64::matplotlib-3.1.3-py38_0\r\n",
      "  matplotlib-base    pkgs/main/linux-64::matplotlib-base-3.1.3-py38hef1b27d_0\r\n",
      "  mccabe             pkgs/main/linux-64::mccabe-0.6.1-py38_1\r\n",
      "  mistune            pkgs/main/linux-64::mistune-0.8.4-py38h7b6447c_1000\r\n",
      "  mkl                pkgs/main/linux-64::mkl-2020.0-166\r\n",
      "  mkl-service        pkgs/main/linux-64::mkl-service-2.3.0-py38he904b0f_0\r\n",
      "  mkl_fft            pkgs/main/linux-64::mkl_fft-1.0.15-py38ha843d7b_0\r\n",
      "  mkl_random         pkgs/main/linux-64::mkl_random-1.1.0-py38h962f231_0\r\n",
      "  mock               pkgs/main/noarch::mock-4.0.2-py_0\r\n",
      "  more-itertools     pkgs/main/noarch::more-itertools-8.2.0-py_0\r\n",
      "  mpc                pkgs/main/linux-64::mpc-1.1.0-h10f8cd9_1\r\n",
      "  mpfr               pkgs/main/linux-64::mpfr-4.0.1-hdf1c602_3\r\n",
      "  mpmath             pkgs/main/linux-64::mpmath-1.1.0-py38_0\r\n",
      "  msgpack-python     pkgs/main/linux-64::msgpack-python-1.0.0-py38hfd86e86_1\r\n",
      "  multipledispatch   pkgs/main/linux-64::multipledispatch-0.6.0-py38_0\r\n",
      "  nbconvert          pkgs/main/linux-64::nbconvert-5.6.1-py38_0\r\n",
      "  nbformat           pkgs/main/noarch::nbformat-5.0.4-py_0\r\n",
      "  ncurses            pkgs/main/linux-64::ncurses-6.2-he6710b0_1\r\n",
      "  networkx           pkgs/main/noarch::networkx-2.4-py_0\r\n",
      "  nltk               pkgs/main/linux-64::nltk-3.4.5-py38_0\r\n",
      "  nose               pkgs/main/linux-64::nose-1.3.7-py38_2\r\n",
      "  notebook           pkgs/main/linux-64::notebook-6.0.3-py38_0\r\n",
      "  numba              pkgs/main/linux-64::numba-0.49.0-py38h0573a6f_0\r\n",
      "  numexpr            pkgs/main/linux-64::numexpr-2.7.1-py38h423224d_0\r\n",
      "  numpy              pkgs/main/linux-64::numpy-1.18.1-py38h4f9e942_0\r\n",
      "  numpy-base         pkgs/main/linux-64::numpy-base-1.18.1-py38hde5b4d6_1\r\n",
      "  numpydoc           pkgs/main/noarch::numpydoc-0.9.2-py_0\r\n",
      "  olefile            pkgs/main/noarch::olefile-0.46-py_0\r\n",
      "  openpyxl           pkgs/main/noarch::openpyxl-3.0.3-py_0\r\n",
      "  openssl            pkgs/main/linux-64::openssl-1.1.1g-h7b6447c_0\r\n",
      "  packaging          pkgs/main/noarch::packaging-20.3-py_0\r\n",
      "  pandas             pkgs/main/linux-64::pandas-1.0.3-py38h0573a6f_0\r\n",
      "  pandoc             pkgs/main/linux-64::pandoc-2.2.3.2-0\r\n",
      "  pandocfilters      pkgs/main/linux-64::pandocfilters-1.4.2-py38_1\r\n",
      "  pango              pkgs/main/linux-64::pango-1.42.4-h049681c_0\r\n",
      "  parso              pkgs/main/noarch::parso-0.5.2-py_0\r\n",
      "  partd              pkgs/main/noarch::partd-1.1.0-py_0\r\n",
      "  patchelf           pkgs/main/linux-64::patchelf-0.10-he6710b0_0\r\n",
      "  path               pkgs/main/linux-64::path-13.1.0-py38_0\r\n",
      "  path.py            pkgs/main/noarch::path.py-12.4.0-0\r\n",
      "  pathlib2           pkgs/main/linux-64::pathlib2-2.3.5-py38_0\r\n",
      "  pathtools          pkgs/main/noarch::pathtools-0.1.2-py_1\r\n",
      "  patsy              pkgs/main/linux-64::patsy-0.5.1-py38_0\r\n",
      "  pcre               pkgs/main/linux-64::pcre-8.43-he6710b0_0\r\n",
      "  pep8               pkgs/main/linux-64::pep8-1.7.1-py38_0\r\n",
      "  pexpect            pkgs/main/linux-64::pexpect-4.8.0-py38_0\r\n",
      "  pickleshare        pkgs/main/linux-64::pickleshare-0.7.5-py38_1000\r\n",
      "  pillow             pkgs/main/linux-64::pillow-7.0.0-py38hb39fc2d_0\r\n",
      "  pip                pkgs/main/linux-64::pip-20.0.2-py38_1\r\n",
      "  pixman             pkgs/main/linux-64::pixman-0.38.0-h7b6447c_0\r\n",
      "  pkginfo            pkgs/main/linux-64::pkginfo-1.5.0.1-py38_0\r\n",
      "  pluggy             pkgs/main/linux-64::pluggy-0.13.1-py38_0\r\n",
      "  ply                pkgs/main/linux-64::ply-3.11-py38_0\r\n",
      "  prometheus_client  pkgs/main/noarch::prometheus_client-0.7.1-py_0\r\n",
      "  prompt-toolkit     pkgs/main/noarch::prompt-toolkit-3.0.4-py_0\r\n",
      "  prompt_toolkit     pkgs/main/noarch::prompt_toolkit-3.0.4-0\r\n",
      "  psutil             pkgs/main/linux-64::psutil-5.7.0-py38h7b6447c_0\r\n",
      "  ptyprocess         pkgs/main/linux-64::ptyprocess-0.6.0-py38_0\r\n",
      "  py                 pkgs/main/noarch::py-1.8.1-py_0\r\n",
      "  pycodestyle        pkgs/main/linux-64::pycodestyle-2.5.0-py38_0\r\n",
      "  pycosat            pkgs/main/linux-64::pycosat-0.6.3-py38h7b6447c_1\r\n",
      "  pycparser          pkgs/main/noarch::pycparser-2.20-py_0\r\n",
      "  pycurl             pkgs/main/linux-64::pycurl-7.43.0.5-py38h1ba5d50_0\r\n",
      "  pydocstyle         pkgs/main/noarch::pydocstyle-4.0.1-py_0\r\n",
      "  pyflakes           pkgs/main/linux-64::pyflakes-2.1.1-py38_0\r\n",
      "  pygments           pkgs/main/noarch::pygments-2.6.1-py_0\r\n",
      "  pylint             pkgs/main/linux-64::pylint-2.5.0-py38_0\r\n",
      "  pyodbc             pkgs/main/linux-64::pyodbc-4.0.30-py38he6710b0_0\r\n",
      "  pyopenssl          pkgs/main/linux-64::pyopenssl-19.1.0-py38_0\r\n",
      "  pyparsing          pkgs/main/noarch::pyparsing-2.4.6-py_0\r\n",
      "  pyqt               pkgs/main/linux-64::pyqt-5.9.2-py38h05f1152_4\r\n",
      "  pyrsistent         pkgs/main/linux-64::pyrsistent-0.16.0-py38h7b6447c_0\r\n",
      "  pysocks            pkgs/main/linux-64::pysocks-1.7.1-py38_0\r\n",
      "  pytables           pkgs/main/linux-64::pytables-3.6.1-py38h9fd0a39_0\r\n",
      "  pytest             pkgs/main/linux-64::pytest-5.4.1-py38_0\r\n",
      "  pytest-arraydiff   pkgs/main/linux-64::pytest-arraydiff-0.2-py38h39e3cac_0\r\n",
      "  pytest-astropy     pkgs/main/noarch::pytest-astropy-0.8.0-py_0\r\n",
      "  pytest-astropy-he~ pkgs/main/noarch::pytest-astropy-header-0.1.2-py_0\r\n",
      "  pytest-doctestplus pkgs/main/noarch::pytest-doctestplus-0.5.0-py_0\r\n",
      "  pytest-openfiles   pkgs/main/noarch::pytest-openfiles-0.5.0-py_0\r\n",
      "  pytest-remotedata  pkgs/main/linux-64::pytest-remotedata-0.3.2-py38_0\r\n",
      "  python             pkgs/main/linux-64::python-3.8.2-hcf32534_0\r\n",
      "  python-dateutil    pkgs/main/noarch::python-dateutil-2.8.1-py_0\r\n",
      "  python-jsonrpc-se~ pkgs/main/noarch::python-jsonrpc-server-0.3.4-py_0\r\n",
      "  python-language-s~ pkgs/main/linux-64::python-language-server-0.31.10-py38_0\r\n",
      "  python-libarchive~ pkgs/main/noarch::python-libarchive-c-2.9-py_0\r\n",
      "  pytz               pkgs/main/noarch::pytz-2019.3-py_0\r\n",
      "  pywavelets         pkgs/main/linux-64::pywavelets-1.1.1-py38h7b6447c_0\r\n",
      "  pyxdg              pkgs/main/noarch::pyxdg-0.26-py_0\r\n",
      "  pyyaml             pkgs/main/linux-64::pyyaml-5.3.1-py38h7b6447c_0\r\n",
      "  pyzmq              pkgs/main/linux-64::pyzmq-18.1.1-py38he6710b0_0\r\n",
      "  qdarkstyle         pkgs/main/noarch::qdarkstyle-2.8.1-py_0\r\n",
      "  qt                 pkgs/main/linux-64::qt-5.9.7-h5867ecd_1\r\n",
      "  qtawesome          pkgs/main/noarch::qtawesome-0.7.0-py_0\r\n",
      "  qtconsole          pkgs/main/noarch::qtconsole-4.7.3-py_0\r\n",
      "  qtpy               pkgs/main/noarch::qtpy-1.9.0-py_0\r\n",
      "  readline           pkgs/main/linux-64::readline-8.0-h7b6447c_0\r\n",
      "  requests           pkgs/main/linux-64::requests-2.23.0-py38_0\r\n",
      "  ripgrep            pkgs/main/linux-64::ripgrep-11.0.2-he32d670_0\r\n",
      "  rope               pkgs/main/noarch::rope-0.16.0-py_0\r\n",
      "  rtree              pkgs/main/linux-64::rtree-0.9.3-py38_0\r\n",
      "  ruamel_yaml        pkgs/main/linux-64::ruamel_yaml-0.15.87-py38h7b6447c_0\r\n",
      "  scikit-image       pkgs/main/linux-64::scikit-image-0.16.2-py38h0573a6f_0\r\n",
      "  scikit-learn       pkgs/main/linux-64::scikit-learn-0.22.1-py38hd81dba3_0\r\n",
      "  scipy              pkgs/main/linux-64::scipy-1.4.1-py38h0b6359f_0\r\n",
      "  seaborn            pkgs/main/noarch::seaborn-0.10.0-py_0\r\n",
      "  secretstorage      pkgs/main/linux-64::secretstorage-3.1.2-py38_0\r\n",
      "  send2trash         pkgs/main/linux-64::send2trash-1.5.0-py38_0\r\n",
      "  setuptools         pkgs/main/linux-64::setuptools-46.1.3-py38_0\r\n",
      "  simplegeneric      pkgs/main/linux-64::simplegeneric-0.8.1-py38_2\r\n",
      "  singledispatch     pkgs/main/linux-64::singledispatch-3.4.0.3-py38_0\r\n",
      "  sip                pkgs/main/linux-64::sip-4.19.13-py38he6710b0_0\r\n",
      "  six                pkgs/main/linux-64::six-1.14.0-py38_0\r\n",
      "  snappy             pkgs/main/linux-64::snappy-1.1.7-hbae5bb6_3\r\n",
      "  snowballstemmer    pkgs/main/noarch::snowballstemmer-2.0.0-py_0\r\n",
      "  sortedcollections  pkgs/main/noarch::sortedcollections-1.1.1-py_0\r\n",
      "  sortedcontainers   pkgs/main/linux-64::sortedcontainers-2.1.0-py38_0\r\n",
      "  soupsieve          pkgs/main/noarch::soupsieve-2.0-py_0\r\n",
      "  sphinx             pkgs/main/noarch::sphinx-3.0.3-py_0\r\n",
      "  sphinxcontrib      pkgs/main/linux-64::sphinxcontrib-1.0-py38_1\r\n",
      "  sphinxcontrib-app~ pkgs/main/noarch::sphinxcontrib-applehelp-1.0.2-py_0\r\n",
      "  sphinxcontrib-dev~ pkgs/main/noarch::sphinxcontrib-devhelp-1.0.2-py_0\r\n",
      "  sphinxcontrib-htm~ pkgs/main/noarch::sphinxcontrib-htmlhelp-1.0.3-py_0\r\n",
      "  sphinxcontrib-jsm~ pkgs/main/noarch::sphinxcontrib-jsmath-1.0.1-py_0\r\n",
      "  sphinxcontrib-qth~ pkgs/main/noarch::sphinxcontrib-qthelp-1.0.3-py_0\r\n",
      "  sphinxcontrib-ser~ pkgs/main/noarch::sphinxcontrib-serializinghtml-1.1.4-py_0\r\n",
      "  sphinxcontrib-web~ pkgs/main/noarch::sphinxcontrib-websupport-1.2.1-py_0\r\n",
      "  spyder             pkgs/main/linux-64::spyder-4.1.2-py38_0\r\n",
      "  spyder-kernels     pkgs/main/linux-64::spyder-kernels-1.9.0-py38_0\r\n",
      "  sqlalchemy         pkgs/main/linux-64::sqlalchemy-1.3.16-py38h7b6447c_0\r\n",
      "  sqlite             pkgs/main/linux-64::sqlite-3.31.1-h62c20be_1\r\n",
      "  statsmodels        pkgs/main/linux-64::statsmodels-0.11.0-py38h7b6447c_0\r\n",
      "  sympy              pkgs/main/linux-64::sympy-1.5.1-py38_0\r\n",
      "  tbb                pkgs/main/linux-64::tbb-2020.0-hfd86e86_0\r\n",
      "  tblib              pkgs/main/noarch::tblib-1.6.0-py_0\r\n",
      "  terminado          pkgs/main/linux-64::terminado-0.8.3-py38_0\r\n",
      "  testpath           pkgs/main/noarch::testpath-0.4.4-py_0\r\n",
      "  tk                 pkgs/main/linux-64::tk-8.6.8-hbc83047_0\r\n",
      "  toolz              pkgs/main/noarch::toolz-0.10.0-py_0\r\n",
      "  tornado            pkgs/main/linux-64::tornado-6.0.4-py38h7b6447c_1\r\n",
      "  tqdm               pkgs/main/noarch::tqdm-4.45.0-py_0\r\n",
      "  traitlets          pkgs/main/linux-64::traitlets-4.3.3-py38_0\r\n",
      "  typing_extensions  pkgs/main/linux-64::typing_extensions-3.7.4.1-py38_0\r\n",
      "  ujson              pkgs/main/linux-64::ujson-1.35-py38h7b6447c_0\r\n",
      "  unicodecsv         pkgs/main/linux-64::unicodecsv-0.14.1-py38_0\r\n",
      "  unixodbc           pkgs/main/linux-64::unixodbc-2.3.7-h14c3975_0\r\n",
      "  urllib3            pkgs/main/linux-64::urllib3-1.25.8-py38_0\r\n",
      "  watchdog           pkgs/main/linux-64::watchdog-0.10.2-py38_0\r\n",
      "  wcwidth            pkgs/main/noarch::wcwidth-0.1.9-py_0\r\n",
      "  webencodings       pkgs/main/linux-64::webencodings-0.5.1-py38_1\r\n",
      "  werkzeug           pkgs/main/noarch::werkzeug-1.0.1-py_0\r\n",
      "  wheel              pkgs/main/linux-64::wheel-0.34.2-py38_0\r\n",
      "  widgetsnbextension pkgs/main/linux-64::widgetsnbextension-3.5.1-py38_0\r\n",
      "  wrapt              pkgs/main/linux-64::wrapt-1.12.1-py38h7b6447c_1\r\n",
      "  wurlitzer          pkgs/main/linux-64::wurlitzer-2.0.0-py38_0\r\n",
      "  xlrd               pkgs/main/noarch::xlrd-1.2.0-py_0\r\n",
      "  xlsxwriter         pkgs/main/noarch::xlsxwriter-1.2.8-py_0\r\n",
      "  xlwt               pkgs/main/linux-64::xlwt-1.3.0-py38_0\r\n",
      "  xz                 pkgs/main/linux-64::xz-5.2.5-h7b6447c_0\r\n",
      "  yaml               pkgs/main/linux-64::yaml-0.1.7-had09818_2\r\n",
      "  yapf               pkgs/main/noarch::yapf-0.28.0-py_0\r\n",
      "  zeromq             pkgs/main/linux-64::zeromq-4.3.1-he6710b0_3\r\n",
      "  zict               pkgs/main/noarch::zict-2.0.0-py_0\r\n",
      "  zipp               pkgs/main/noarch::zipp-3.1.0-py_0\r\n",
      "  zlib               pkgs/main/linux-64::zlib-1.2.11-h7b6447c_3\r\n",
      "  zstd               pkgs/main/linux-64::zstd-1.3.7-h0b5b093_0\r\n",
      "\r\n",
      "\r\n",
      "Proceed ([y]/n)? "
     ]
    }
   ],
   "source": [
    "conda create -n curso Anaconda"
   ]
  },
  {
   "cell_type": "markdown",
   "metadata": {},
   "source": [
    "2. Comando para enlistar un ambiente virtual"
   ]
  },
  {
   "cell_type": "code",
   "execution_count": null,
   "metadata": {},
   "outputs": [],
   "source": [
    "conda env list"
   ]
  },
  {
   "cell_type": "markdown",
   "metadata": {},
   "source": [
    "3. Comando para activar el ambiente virtual"
   ]
  },
  {
   "cell_type": "code",
   "execution_count": null,
   "metadata": {},
   "outputs": [],
   "source": [
    "conda activate curso"
   ]
  },
  {
   "cell_type": "markdown",
   "metadata": {},
   "source": [
    "4. Comando para desactivar el ambiente virtual"
   ]
  },
  {
   "cell_type": "code",
   "execution_count": null,
   "metadata": {},
   "outputs": [],
   "source": [
    "conda deactivate"
   ]
  },
  {
   "cell_type": "markdown",
   "metadata": {},
   "source": [
    "5. Crea un string, de preferencia una frase."
   ]
  },
  {
   "cell_type": "code",
   "execution_count": 1,
   "metadata": {},
   "outputs": [
    {
     "name": "stdout",
     "output_type": "stream",
     "text": [
      "Hola, soy un string\n"
     ]
    }
   ],
   "source": [
    "new_string='Hola, soy un string'\n",
    "print(new_string)"
   ]
  },
  {
   "cell_type": "markdown",
   "metadata": {},
   "source": [
    "6. El string anterior conviertelo a una lista, donde cada elemento este separado por una (,)."
   ]
  },
  {
   "cell_type": "code",
   "execution_count": 2,
   "metadata": {},
   "outputs": [],
   "source": [
    "split_string = new_string.split()"
   ]
  },
  {
   "cell_type": "code",
   "execution_count": 3,
   "metadata": {},
   "outputs": [
    {
     "name": "stdout",
     "output_type": "stream",
     "text": [
      "['Hola,', 'soy', 'un', 'string']\n"
     ]
    }
   ],
   "source": [
    "print(split_string)"
   ]
  },
  {
   "cell_type": "markdown",
   "metadata": {},
   "source": [
    "7. Crea una lista que contenga una lista"
   ]
  },
  {
   "cell_type": "code",
   "execution_count": 4,
   "metadata": {},
   "outputs": [
    {
     "data": {
      "text/plain": [
       "[1, 2, 3, [4, 5, 6]]"
      ]
     },
     "execution_count": 4,
     "metadata": {},
     "output_type": "execute_result"
    }
   ],
   "source": [
    "new_list = [1,2,3,[4,5,6]]\n",
    "new_list"
   ]
  },
  {
   "cell_type": "markdown",
   "metadata": {},
   "source": [
    "8. Añade un elemento a la lista, que el elemento se añada al final de la lista"
   ]
  },
  {
   "cell_type": "code",
   "execution_count": 6,
   "metadata": {},
   "outputs": [
    {
     "name": "stdout",
     "output_type": "stream",
     "text": [
      "[1, 2, 3, [4, 5, 6], 'Insert', 'Insert']\n"
     ]
    }
   ],
   "source": [
    "new_list.append(\"Insert\")\n",
    "print(new_list)"
   ]
  },
  {
   "cell_type": "markdown",
   "metadata": {},
   "source": [
    "9. Añade un elemento a la lista indicando que el elemento se añada a la posición 3"
   ]
  },
  {
   "cell_type": "code",
   "execution_count": 12,
   "metadata": {},
   "outputs": [],
   "source": [
    "new_list.insert(3, \"Hola\")"
   ]
  },
  {
   "cell_type": "code",
   "execution_count": 13,
   "metadata": {},
   "outputs": [
    {
     "name": "stdout",
     "output_type": "stream",
     "text": [
      "None\n"
     ]
    }
   ],
   "source": [
    "print(another_list)"
   ]
  },
  {
   "cell_type": "markdown",
   "metadata": {},
   "source": [
    "10. Elimina el elemento 2 de la lista"
   ]
  },
  {
   "cell_type": "code",
   "execution_count": 15,
   "metadata": {},
   "outputs": [
    {
     "data": {
      "text/plain": [
       "'Hola'"
      ]
     },
     "execution_count": 15,
     "metadata": {},
     "output_type": "execute_result"
    }
   ],
   "source": [
    "new_list.pop(3)"
   ]
  },
  {
   "cell_type": "markdown",
   "metadata": {},
   "source": [
    "11. Elimina la lista"
   ]
  },
  {
   "cell_type": "code",
   "execution_count": 16,
   "metadata": {},
   "outputs": [],
   "source": [
    "del another_list"
   ]
  },
  {
   "cell_type": "markdown",
   "metadata": {},
   "source": [
    "12. Crea un diccionario simple"
   ]
  },
  {
   "cell_type": "code",
   "execution_count": 17,
   "metadata": {},
   "outputs": [
    {
     "name": "stdout",
     "output_type": "stream",
     "text": [
      "{'Nombre': 'Karen', 'Apellido': 'Ibarra', 'Edad': 26}\n"
     ]
    }
   ],
   "source": [
    "datos = {\n",
    "    \"Nombre\":\"Karen\",\n",
    "    \"Apellido\":\"Ibarra\",\n",
    "    \"Edad\":26,\n",
    "}\n",
    "print(datos)"
   ]
  },
  {
   "cell_type": "markdown",
   "metadata": {},
   "source": [
    "13. Crea un diccionario que contenga un diccionario"
   ]
  },
  {
   "cell_type": "code",
   "execution_count": 18,
   "metadata": {},
   "outputs": [
    {
     "name": "stdout",
     "output_type": "stream",
     "text": [
      "{'001': {'Nombre': 'Juan', 'Apellido': 'Perez'}, '002': {'Nombre': 'Jaqueline', 'Apellido': 'Gonzalez'}, '003': {'Nombre': 'Andrés', 'Apellido': 'Mireles'}, '004': {'Nombre': 'Pablo', 'Apellido': 'Santillan'}, '005': {'Nombre': 'Monsterrat', 'Apellido': 'Plata'}}\n"
     ]
    }
   ],
   "source": [
    "students = {\n",
    "    \"001\":{\"Nombre\":\"Juan\",\"Apellido\":\"Perez\"},\n",
    "    \"002\":{\"Nombre\":\"Jaqueline\",\"Apellido\":\"Gonzalez\"},\n",
    "    \"003\":{\"Nombre\":\"Andrés\",\"Apellido\":\"Mireles\"},\n",
    "    \"004\":{\"Nombre\":\"Pablo\",\"Apellido\":\"Santillan\"},\n",
    "    \"005\":{\"Nombre\":\"Monsterrat\",\"Apellido\":\"Plata\"}\n",
    "}\n",
    "print(students)"
   ]
  },
  {
   "cell_type": "markdown",
   "metadata": {},
   "source": [
    "14. Del diccionario Accede a sus diferentes elementos"
   ]
  },
  {
   "cell_type": "code",
   "execution_count": 19,
   "metadata": {},
   "outputs": [
    {
     "name": "stdout",
     "output_type": "stream",
     "text": [
      "{'Nombre': 'Andrés', 'Apellido': 'Mireles'}\n"
     ]
    }
   ],
   "source": [
    "print(students[\"003\"])"
   ]
  },
  {
   "cell_type": "markdown",
   "metadata": {},
   "source": [
    "15. Busca un elemento en el diccionario y de no encontrar el elemento, regresa la frase \"Elemento no encontrado\"."
   ]
  },
  {
   "cell_type": "code",
   "execution_count": 22,
   "metadata": {},
   "outputs": [
    {
     "data": {
      "text/plain": [
       "'Elemento no encontrado'"
      ]
     },
     "execution_count": 22,
     "metadata": {},
     "output_type": "execute_result"
    }
   ],
   "source": [
    "students.get(\"009\", \"Elemento no encontrado\")"
   ]
  },
  {
   "cell_type": "code",
   "execution_count": 23,
   "metadata": {},
   "outputs": [
    {
     "data": {
      "text/plain": [
       "{'Nombre': 'Jaqueline', 'Apellido': 'Gonzalez'}"
      ]
     },
     "execution_count": 23,
     "metadata": {},
     "output_type": "execute_result"
    }
   ],
   "source": [
    "students.get(\"002\", \"Elemento no encontrado\")"
   ]
  },
  {
   "cell_type": "markdown",
   "metadata": {},
   "source": [
    "#### EJERCICIO DE ANALISIS DE TEXTO\n",
    "Este ejercicio integra las estructuras de datos."
   ]
  },
  {
   "cell_type": "code",
   "execution_count": 2,
   "metadata": {},
   "outputs": [],
   "source": [
    "#con la siguiente instrucción lee un archivo txt\n",
    "file = open('Divina Comedia.txt')"
   ]
  },
  {
   "cell_type": "code",
   "execution_count": 3,
   "metadata": {},
   "outputs": [],
   "source": [
    "#Aqui estas indicando que quieres obtener los primeros 5000 caracteres del txt\n",
    "first_5000 = file.read()[:5000]"
   ]
  },
  {
   "cell_type": "markdown",
   "metadata": {},
   "source": [
    "Para el análisis del texto vamos a hacernos las siguientes preguntas:\n",
    "1. ¿Cuántas palabras existen en los primeros 5,000 caracteres?\n",
    "2. ¿Cuántas palabras únicas existen en el mismo rango?\n",
    "3. Válidar si la palabra 'the' aparece en el texto\n",
    "3. De ser asi, ¿Cuántas veces aparece la palabra 'the' en ese rango? \n",
    "4. Que pasará si elimino los signos de puntuación? Como por ejemplo : 'me', 'me;', 'me.', 'me?' y 'me,'\n",
    "5. Elimina los signos de puntuación y nuevamente obten cuantas palabras únicas existan en las primeras 5000 caracteres.\n",
    "6. Ahora haz el mismo ejercicio Anterior, solo que en con el texto completo."
   ]
  },
  {
   "cell_type": "markdown",
   "metadata": {},
   "source": [
    "¿Cuántas palabras existen en los primeros 5,000 caracteres?"
   ]
  },
  {
   "cell_type": "code",
   "execution_count": 4,
   "metadata": {},
   "outputs": [
    {
     "name": "stdout",
     "output_type": "stream",
     "text": [
      "CANTO I\n",
      "\n",
      "His glory, by whose might all things are mov'd,\n",
      "Pierces the universe, and in one part\n",
      "Sheds more resplendence, elsewhere less.  In heav'n,\n",
      "That largeliest of his light partakes, was I,\n",
      "Witness of things, which to relate again\n",
      "Surpasseth power of him who comes from thence;\n",
      "For that, so near approaching its desire\n",
      "Our intellect is to such depth absorb'd,\n",
      "That memory cannot follow.  Nathless all,\n",
      "That in my thoughts I of that sacred realm\n",
      "Could store, shall now be matter of my song.\n",
      "\n",
      "Benign Apollo! this last labour aid,\n",
      "And make me such a vessel of thy worth,\n",
      "As thy own laurel claims of me belov'd.\n",
      "Thus far hath one of steep Parnassus' brows\n",
      "Suffic'd me; henceforth there is need of both\n",
      "For my remaining enterprise Do thou\n",
      "Enter into my bosom, and there breathe\n",
      "So, as when Marsyas by thy hand was dragg'd\n",
      "Forth from his limbs unsheath'd.  O power divine!\n",
      "If thou to me of shine impart so much,\n",
      "That of that happy realm the shadow'd form\n",
      "Trac'd in my thoughts I may set forth to view,\n",
      "Thou shalt behold me of thy favour'd tree\n",
      "Come to the foot, and crown myself with leaves;\n",
      "For to that honour thou, and my high theme\n",
      "Will fit me.  If but seldom, mighty Sire!\n",
      "To grace his triumph gathers thence a wreath\n",
      "Caesar or bard (more shame for human wills\n",
      "Deprav'd) joy to the Delphic god must spring\n",
      "From the Pierian foliage, when one breast\n",
      "Is with such thirst inspir'd.  From a small spark\n",
      "Great flame hath risen: after me perchance\n",
      "Others with better voice may pray, and gain\n",
      "From the Cirrhaean city answer kind.\n",
      "\n",
      "Through diver passages, the world's bright lamp\n",
      "Rises to mortals, but through that which joins\n",
      "Four circles with the threefold cross, in best\n",
      "Course, and in happiest constellation set\n",
      "He comes, and to the worldly wax best gives\n",
      "Its temper and impression.  Morning there,\n",
      "Here eve was by almost such passage made;\n",
      "And whiteness had o'erspread that hemisphere,\n",
      "Blackness the other part; when to the left\n",
      "I saw Beatrice turn'd, and on the sun\n",
      "Gazing, as never eagle fix'd his ken.\n",
      "As from the first a second beam is wont\n",
      "To issue, and reflected upwards rise,\n",
      "E'en as a pilgrim bent on his return,\n",
      "So of her act, that through the eyesight pass'd\n",
      "Into my fancy, mine was form'd; and straight,\n",
      "Beyond our mortal wont, I fix'd mine eyes\n",
      "Upon the sun.  Much is allowed us there,\n",
      "That here exceeds our pow'r; thanks to the place\n",
      "Made for the dwelling of the human kind\n",
      "\n",
      "I suffer'd it not long, and yet so long\n",
      "That I beheld it bick'ring sparks around,\n",
      "As iron that comes boiling from the fire.\n",
      "And suddenly upon the day appear'd\n",
      "A day new-ris'n, as he, who hath the power,\n",
      "Had with another sun bedeck'd the sky.\n",
      "\n",
      "Her eyes fast fix'd on the eternal wheels,\n",
      "Beatrice stood unmov'd; and I with ken\n",
      "Fix'd upon her, from upward gaze remov'd\n",
      "At her aspect, such inwardly became\n",
      "As Glaucus, when he tasted of the herb,\n",
      "That made him peer among the ocean gods;\n",
      "Words may not tell of that transhuman change:\n",
      "And therefore let the example serve, though weak,\n",
      "For those whom grace hath better proof in store\n",
      "\n",
      "If I were only what thou didst create,\n",
      "Then newly, Love! by whom the heav'n is rul'd,\n",
      "Thou know'st, who by thy light didst bear me up.\n",
      "Whenas the wheel which thou dost ever guide,\n",
      "Desired Spirit! with its harmony\n",
      "Temper'd of thee and measur'd, charm'd mine ear,\n",
      "Then seem'd to me so much of heav'n to blaze\n",
      "With the sun's flame, that rain or flood ne'er made\n",
      "A lake so broad.  The newness of the sound,\n",
      "And that great light, inflam'd me with desire,\n",
      "Keener than e'er was felt, to know their cause.\n",
      "\n",
      "Whence she who saw me, clearly as myself,\n",
      "To calm my troubled mind, before I ask'd,\n",
      "Open'd her lips, and gracious thus began:\n",
      "\"With false imagination thou thyself\n",
      "Mak'st dull, so that thou seest not the thing,\n",
      "Which thou hadst seen, had that been shaken off.\n",
      "Thou art not on the earth as thou believ'st;\n",
      "For light'ning scap'd from its own proper place\n",
      "Ne'er ran, as thou hast hither now return'd.\"\n",
      "\n",
      "Although divested of my first-rais'd doubt,\n",
      "By those brief words, accompanied with smiles,\n",
      "Yet in new doubt was I entangled more,\n",
      "And said: \"Already satisfied, I rest\n",
      "From admiration deep, but now admire\n",
      "How I above those lighter bodies rise.\"\n",
      "\n",
      "Whence, after utt'rance of a piteous sigh,\n",
      "She tow'rds me bent her eyes, with such a look,\n",
      "As on her frenzied child a mother casts;\n",
      "Then thus began: \"Among themselves all things\n",
      "Have order; and from hence the form, which makes\n",
      "The universe resemble God.  In this\n",
      "The higher creatures see the printed steps\n",
      "Of that eternal worth, which is the end\n",
      "Whither the line is drawn.  All natures lean,\n",
      "In this their order, diversely, some more,\n",
      "Some less approaching to their primal source.\n",
      "Thus they to different havens are mov'd on\n",
      "Through the vast sea of being, and each one\n",
      "With instinct giv'n, that bears it in its course;\n",
      "This to the lunar sphere directs the fire,\n",
      "This prompts the hearts of mortal animals,\n",
      "This the brute earth together knits, and binds.\n",
      "Nor only creatures, void of intellect,\n",
      "Are aim'd at by this bow; but even those,\n",
      "That have \n"
     ]
    }
   ],
   "source": [
    "print(first_5000)"
   ]
  },
  {
   "cell_type": "code",
   "execution_count": 9,
   "metadata": {},
   "outputs": [
    {
     "name": "stdout",
     "output_type": "stream",
     "text": [
      "901\n"
     ]
    }
   ],
   "source": [
    "total_words = len(first_5000.split())\n",
    "print(total_words)"
   ]
  },
  {
   "cell_type": "markdown",
   "metadata": {},
   "source": [
    "¿Cuántas palabras únicas existen en el mismo rango?"
   ]
  },
  {
   "cell_type": "code",
   "execution_count": 24,
   "metadata": {},
   "outputs": [
    {
     "name": "stdout",
     "output_type": "stream",
     "text": [
      "58\n"
     ]
    }
   ],
   "source": [
    "print(len(set(first_5000)))"
   ]
  },
  {
   "cell_type": "markdown",
   "metadata": {},
   "source": [
    "Válidar si la palabra 'the' aparece en el texto"
   ]
  },
  {
   "cell_type": "code",
   "execution_count": 27,
   "metadata": {},
   "outputs": [
    {
     "name": "stdout",
     "output_type": "stream",
     "text": [
      "La palabra 'the' si se encuentra en el texto\n"
     ]
    }
   ],
   "source": [
    "if first_5000.find(\"the\") > 1:\n",
    "    print(\"La palabra 'the' si se encuentra en el texto\")"
   ]
  },
  {
   "cell_type": "markdown",
   "metadata": {},
   "source": [
    "De ser asi, ¿Cuántas veces aparece la palabra 'the' en ese rango?"
   ]
  },
  {
   "cell_type": "code",
   "execution_count": 36,
   "metadata": {},
   "outputs": [
    {
     "data": {
      "text/plain": [
       "65"
      ]
     },
     "execution_count": 36,
     "metadata": {},
     "output_type": "execute_result"
    }
   ],
   "source": [
    "first_5000.find(\"the\") "
   ]
  },
  {
   "cell_type": "markdown",
   "metadata": {},
   "source": [
    "Que pasará si elimino los signos de puntuación? Como por ejemplo : 'me', 'me;', 'me.', 'me?' y 'me,'"
   ]
  },
  {
   "cell_type": "code",
   "execution_count": null,
   "metadata": {},
   "outputs": [],
   "source": []
  },
  {
   "cell_type": "markdown",
   "metadata": {},
   "source": [
    "Elimina los signos de puntuación y nuevamente obten cuantas palabras únicas existan en las primeras 5000 caracteres."
   ]
  },
  {
   "cell_type": "code",
   "execution_count": null,
   "metadata": {},
   "outputs": [],
   "source": []
  },
  {
   "cell_type": "markdown",
   "metadata": {},
   "source": [
    "Ahora haz el mismo ejercicio Anterior, solo que en con el texto completo."
   ]
  },
  {
   "cell_type": "code",
   "execution_count": null,
   "metadata": {},
   "outputs": [],
   "source": []
  }
 ],
 "metadata": {
  "kernelspec": {
   "display_name": "Python 3",
   "language": "python",
   "name": "python3"
  },
  "language_info": {
   "codemirror_mode": {
    "name": "ipython",
    "version": 3
   },
   "file_extension": ".py",
   "mimetype": "text/x-python",
   "name": "python",
   "nbconvert_exporter": "python",
   "pygments_lexer": "ipython3",
   "version": "3.7.6"
  }
 },
 "nbformat": 4,
 "nbformat_minor": 2
}
